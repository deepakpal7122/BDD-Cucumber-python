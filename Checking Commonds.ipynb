{
 "cells": [
  {
   "cell_type": "markdown",
   "id": "f86bef89",
   "metadata": {},
   "source": [
    "# 1) Install behave in vscode commond  \n",
    "    pip install allure-behave\n",
    "\n",
    "# 2) How to check python version \n",
    "    python --version\n",
    "\n",
    "# 3) How to install selenium \n",
    "    pip install selenium\n",
    "\n",
    "# 4) Check all list install \n",
    "    pip list\n",
    "\n",
    "# 5) how to Run .feature file \n",
    "    behave features\\facebook.feature\n",
    "    \n",
    "# 6) how to Run all .feature file\n",
    "    behave ./features  \n",
    "         or\n",
    "    behave features\n",
    "    \n",
    "# 7) how to generate allure report in (json) formatte in vscode.\n",
    "\n",
    "    behave -f allure_behave.formatter:AllureFormatter -o (report folder name)/ featurefilename\n",
    "    \n",
    "    All feature fill    Exa - behave -f allure_behave.formatter:AllureFormatter -o reports/ features\n",
    "    single feature fill Exa - behave -f allure_behave.formatter:AllureFormatter -o reports/ features/facebook.feature\n",
    "      \n",
    "# 8) json to html this commond use than we see Generate Allure Full report in          browser.\n",
    "    allure serve reports/"
   ]
  }
 ],
 "metadata": {
  "kernelspec": {
   "display_name": "Python 3 (ipykernel)",
   "language": "python",
   "name": "python3"
  },
  "language_info": {
   "codemirror_mode": {
    "name": "ipython",
    "version": 3
   },
   "file_extension": ".py",
   "mimetype": "text/x-python",
   "name": "python",
   "nbconvert_exporter": "python",
   "pygments_lexer": "ipython3",
   "version": "3.10.4"
  }
 },
 "nbformat": 4,
 "nbformat_minor": 5
}
