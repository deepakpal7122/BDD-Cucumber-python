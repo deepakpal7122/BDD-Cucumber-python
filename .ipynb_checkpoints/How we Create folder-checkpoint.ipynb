{
 "cells": [
  {
   "cell_type": "markdown",
   "id": "a7cc3628",
   "metadata": {},
   "source": [
    "# How we create folder\n",
    "    \n",
    "    Step-1 - We have to create new folder(____)\n",
    "    Step-2 - We have to create steps folder in the feature.\n",
    "    step-3 - Under feature folder we can create n no. of feature files which contains the scenario and step. and for those \n",
    "             scenario and step we have impliment code in the form of step defination. those should be include steps. so we\n",
    "             can give any name (___).py is a python file. and write the code python method by using Gherkin keyword. these\n",
    "             method we can write own.\n",
    "             \n",
    "    If we .feature file this will give you slnip of all step and we just copy and past after past we can modifie to\n",
    "    according to requriment. this a how to me automate selenium test using beahave framework BDD process approach."
   ]
  }
 ],
 "metadata": {
  "kernelspec": {
   "display_name": "Python 3 (ipykernel)",
   "language": "python",
   "name": "python3"
  },
  "language_info": {
   "codemirror_mode": {
    "name": "ipython",
    "version": 3
   },
   "file_extension": ".py",
   "mimetype": "text/x-python",
   "name": "python",
   "nbconvert_exporter": "python",
   "pygments_lexer": "ipython3",
   "version": "3.10.4"
  }
 },
 "nbformat": 4,
 "nbformat_minor": 5
}
