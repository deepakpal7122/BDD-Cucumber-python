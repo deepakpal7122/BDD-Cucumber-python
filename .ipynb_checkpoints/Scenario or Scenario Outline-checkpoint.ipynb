{
 "cells": [
  {
   "cell_type": "markdown",
   "id": "1c78b155",
   "metadata": {},
   "source": [
    "# What is Scenario or Scenario Outline\n",
    "\n",
    "    Scenario - It will execute all the step only 1 time.\n",
    "\n",
    "    Scenario Outline - We can execute multiple times depends open the number of input we provide in the Examples keyword.\n",
    "    \n",
    "    This is how we can work with the scenario outline."
   ]
  }
 ],
 "metadata": {
  "kernelspec": {
   "display_name": "Python 3 (ipykernel)",
   "language": "python",
   "name": "python3"
  },
  "language_info": {
   "codemirror_mode": {
    "name": "ipython",
    "version": 3
   },
   "file_extension": ".py",
   "mimetype": "text/x-python",
   "name": "python",
   "nbconvert_exporter": "python",
   "pygments_lexer": "ipython3",
   "version": "3.10.4"
  }
 },
 "nbformat": 4,
 "nbformat_minor": 5
}
