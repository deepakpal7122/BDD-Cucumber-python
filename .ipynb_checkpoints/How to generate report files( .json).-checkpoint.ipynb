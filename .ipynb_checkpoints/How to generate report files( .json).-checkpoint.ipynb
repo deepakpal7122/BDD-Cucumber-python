{
 "cells": [
  {
   "cell_type": "markdown",
   "id": "32c8bdf4",
   "metadata": {},
   "source": [
    "# How to genrate file to cucumber ?\n",
    "\n",
    "    1st you will download allure file.\n",
    "    Go to command and install - pip install allure-behave\n",
    "    \n",
    "    And after commlete file you go to terminal and type this command --\n",
    "    command- behave -f allure_behave.formatter:AllureFormatter -o reports/ features\n",
    "        \n",
    "    And this will give you.json file nut we need to html format than we do 1 more command \n",
    "    command- allure serve reports/ \n",
    "    this command you will give you html format this report will easy to understand and the also provide status how many\n",
    "    will pass, how many fail, duration and severity. it will we veryeasy to understand.\n",
    "    \n",
    "### How to Run all .feature file\n",
    "\n",
    "    ./features command will run all the feature file which will available in under features folder all the scenario will\n",
    "    execute . \n",
    "    \n",
    "    \n",
    "### This command will run only 1 file.\n",
    "    Go to Terminal and type - beahve (feacture file location)\n",
    "    "
   ]
  }
 ],
 "metadata": {
  "kernelspec": {
   "display_name": "Python 3 (ipykernel)",
   "language": "python",
   "name": "python3"
  },
  "language_info": {
   "codemirror_mode": {
    "name": "ipython",
    "version": 3
   },
   "file_extension": ".py",
   "mimetype": "text/x-python",
   "name": "python",
   "nbconvert_exporter": "python",
   "pygments_lexer": "ipython3",
   "version": "3.10.4"
  }
 },
 "nbformat": 4,
 "nbformat_minor": 5
}
