{
 "cells": [
  {
   "cell_type": "markdown",
   "id": "5adfbf3f",
   "metadata": {},
   "source": [
    "# What is the Background keyword in Cucumber?\n",
    "\n",
    "    The Background keyword is applied to replicate the same steps before all Scenarios within a Feature File."
   ]
  }
 ],
 "metadata": {
  "kernelspec": {
   "display_name": "Python 3 (ipykernel)",
   "language": "python",
   "name": "python3"
  },
  "language_info": {
   "codemirror_mode": {
    "name": "ipython",
    "version": 3
   },
   "file_extension": ".py",
   "mimetype": "text/x-python",
   "name": "python",
   "nbconvert_exporter": "python",
   "pygments_lexer": "ipython3",
   "version": "3.10.4"
  }
 },
 "nbformat": 4,
 "nbformat_minor": 5
}
